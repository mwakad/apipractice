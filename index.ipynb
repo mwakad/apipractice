{
 "cells": [
  {
   "cell_type": "code",
   "execution_count": null,
   "id": "6399c099",
   "metadata": {},
   "outputs": [
    {
     "name": "stdout",
     "output_type": "stream",
     "text": [
      "Error during API request: 401 Client Error: Unauthorized for url: http://api.openweathermap.org/data/2.5/weather?appid=...&q=Kitengela,KE&units=metric\n"
     ]
    }
   ],
   "source": [
    "import requests\n",
    "import json\n",
    "import pandas as pd\n",
    "import matplotlib.pyplot as plt\n",
    "import seaborn as sns\n",
    "\n",
    "# --- ENTER YOUR API KEY HERE ---\n",
    "api_key = \"...\"\n",
    "# --------------------------------\n",
    "\n",
    "# Replace with your desired city and country code\n",
    "city_name = \"Nairobi\"\n",
    "country_code = \"KE\"  # Kenya\n",
    "\n",
    "if api_key:\n",
    "    base_url = \"http://api.openweathermap.org/data/2.5/weather?\"\n",
    "    complete_url = base_url + \"appid=\" + api_key + \"&q=\" + city_name + \",\" + country_code + \"&units=metric\"\n",
    "\n",
    "    try:\n",
    "        # Make the API request\n",
    "        response = requests.get(complete_url)\n",
    "        response.raise_for_status()  # Raise an exception for bad status codes (4xx or 5xx)\n",
    "\n",
    "        # Parse the JSON response\n",
    "        data = response.json()\n",
    "\n",
    "        if data[\"cod\"] != \"404\":\n",
    "            # Extract relevant weather information\n",
    "            main_data = data[\"main\"]\n",
    "            temperature = main_data[\"temp\"]\n",
    "            humidity = main_data[\"humidity\"]\n",
    "            pressure = main_data[\"pressure\"]\n",
    "            description = data[\"weather\"][0][\"description\"]\n",
    "            wind_speed = data[\"wind\"][\"speed\"]\n",
    "\n",
    "            weather_data = {\n",
    "                \"City\": [city_name],\n",
    "                \"Temperature (°C)\": [temperature],\n",
    "                \"Humidity (%)\": [humidity],\n",
    "                \"Pressure (hPa)\": [pressure],\n",
    "                \"Description\": [description],\n",
    "                \"Wind Speed (m/s)\": [wind_speed]\n",
    "            }\n",
    "\n",
    "            # Create a Pandas DataFrame\n",
    "            df_weather = pd.DataFrame(weather_data)\n",
    "            print(\"Weather Data for\", city_name + \", \" + country_code + \":\")\n",
    "            print(df_weather)\n",
    "      \n",
    "        else:\n",
    "            print(\"City not found.\")\n",
    "\n",
    "    except requests.exceptions.RequestException as e:\n",
    "        print(f\"Error during API request: {e}\")\n",
    "    except json.JSONDecodeError as e:\n",
    "        print(f\"Error decoding JSON response: {e}\")\n",
    "    except KeyError as e:\n",
    "        print(f\"Error accessing key in JSON: {e}\")\n",
    "else:\n",
    "    print(\"Error: API key not provided.\")"
   ]
  }
 ],
 "metadata": {
  "kernelspec": {
   "display_name": "learn-env",
   "language": "python",
   "name": "python3"
  },
  "language_info": {
   "codemirror_mode": {
    "name": "ipython",
    "version": 3
   },
   "file_extension": ".py",
   "mimetype": "text/x-python",
   "name": "python",
   "nbconvert_exporter": "python",
   "pygments_lexer": "ipython3",
   "version": "3.8.5"
  }
 },
 "nbformat": 4,
 "nbformat_minor": 5
}
